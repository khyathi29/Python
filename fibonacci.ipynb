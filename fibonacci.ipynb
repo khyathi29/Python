{
 "cells": [
  {
   "cell_type": "markdown",
   "id": "eab0c2b5",
   "metadata": {},
   "source": [
    "# Fibonacci Numbers in Python"
   ]
  },
  {
   "cell_type": "markdown",
   "id": "e8ea99e4",
   "metadata": {},
   "source": [
    "This program prints the Fibonacci sequence using the recurrence relation $F_n = F_{n-1} + F_{n-2}$. The first two terms are 0 and 1."
   ]
  },
  {
   "cell_type": "code",
   "execution_count": null,
   "id": "59ce8bf8",
   "metadata": {},
   "outputs": [],
   "source": [
    "# Fibonacci sequence using recurrence relation\n",
    "\n",
    "# Get the number of terms from the user\n",
    "n_terms = int(input(\"Enter the number of terms: \"))\n",
    "\n",
    "# First two terms of Fibonacci series\n",
    "a, b = 0, 1\n",
    "\n",
    "if n_terms <= 0:\n",
    "    print(\"Please enter a positive integer.\")\n",
    "elif n_terms == 1:\n",
    "    print(\"Fibonacci sequence up to 1 term:\")\n",
    "    print(a)\n",
    "else:\n",
    "    print(\"Fibonacci sequence:\")\n",
    "    for _ in range(n_terms):\n",
    "        print(a, end=\"  \")\n",
    "        a, b = b, a + b\n"
   ]
  }
 ],
 "metadata": {},
 "nbformat": 4,
 "nbformat_minor": 5
}
