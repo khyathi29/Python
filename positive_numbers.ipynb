{
 "cells": [
  {
   "cell_type": "code",
   "execution_count": null,
   "id": "44961d2d",
   "metadata": {
    "vscode": {
     "languageId": "plaintext"
    }
   },
   "outputs": [],
   "source": [
    "# Python program to print all positive numbers in a list\n",
    "\n",
    "# Example 1\n",
    "list1 = [12, -7, 5, 64, -14]\n",
    "print(\"Input:\", list1, end=\" \")\n",
    "print(\"Output:\", end=\" \")\n",
    "for num in list1:\n",
    "    if num > 0:\n",
    "        print(num, end=\", \")\n",
    "\n",
    "print()  # New line for clarity\n",
    "\n",
    "# Example 2\n",
    "list2 = [12, 14, -95, 3]\n",
    "positive_nums = [num for num in list2 if num > 0]\n",
    "print(\"Input:\", list2, end=\" \")\n",
    "print(\"Output:\", positive_nums)\n"
   ]
  }
 ],
 "metadata": {
  "language_info": {
   "name": "python"
  }
 },
 "nbformat": 4,
 "nbformat_minor": 5
}
