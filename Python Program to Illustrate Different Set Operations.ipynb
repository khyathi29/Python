{
 "cells": [
  {
   "cell_type": "code",
   "execution_count": null,
   "id": "ade31af9",
   "metadata": {},
   "outputs": [],
   "source": [
    "# Python Program to Illustrate Different Set Operations\n",
    "\n",
    "# Define two sets\n",
    "E = {0, 2, 4, 6, 8}\n",
    "N = {1, 2, 3, 4, 5}\n",
    "\n",
    "# Union\n",
    "print(\"Union of E and N is\", E | N)\n",
    "\n",
    "# Intersection\n",
    "print(\"Intersection of E and N is\", E & N)\n",
    "\n",
    "# Difference\n",
    "print(\"Difference of E and N is\", E - N)\n",
    "\n",
    "# Symmetric Difference\n",
    "print(\"Symmetric difference of E and N is\", E ^ N)\n"
   ]
  }
 ],
 "metadata": {
  "language_info": {
   "name": "python"
  }
 },
 "nbformat": 4,
 "nbformat_minor": 5
}
